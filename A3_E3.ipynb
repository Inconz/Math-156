{
 "cells": [
  {
   "cell_type": "code",
   "execution_count": 2,
   "metadata": {},
   "outputs": [],
   "source": [
    "import numpy as np"
   ]
  },
  {
   "cell_type": "code",
   "execution_count": 7,
   "metadata": {},
   "outputs": [],
   "source": [
    "class LogisticRegression:\n",
    "    def __init__(self, dim):\n",
    "        #initializes the logistic regression model with the numbers of features in the dataset.\n",
    "        self.w = np.random.randn(dim)\n",
    "\n",
    "    def sigmoid(self, z):\n",
    "        #outputs probilities after applying it to logistic sigmoid function.\n",
    "        return 1 / (1 + np.exp(-z))\n",
    "\n",
    "    \n",
    "    def predict(self, X):\n",
    "        #predicts the data points class by the threshold of 0.5.\n",
    "        probabilities = self.sigmoid(np.dot(X, self.w))\n",
    "        return (probabilities >= 0.5).astype(int)\n",
    "    \n",
    "    def cross_entropy_error(self, X, t):\n",
    "        #computes the cross_entropy_error\n",
    "        y = self.predict(X, return_proba=True)\n",
    "        error = -np.sum(t * np.log(y) + (1 - t) * np.log(1 - y))\n",
    "        return error"
   ]
  },
  {
   "cell_type": "code",
   "execution_count": 3,
   "metadata": {},
   "outputs": [],
   "source": [
    "class MiniBatchSGD:\n",
    "    def __init__(self, model, batch_size=64, learning_rate=0.001, max_iterations=10000):\n",
    "        #initializes the mini-batch SGD parameters\n",
    "        self.model = model\n",
    "        self.batch_size = batch_size\n",
    "        self.learning_rate = learning_rate\n",
    "        self.max_iterations = max_iterations \n",
    "    \n",
    "    def random_select_batch(self, X, t):\n",
    "        #randomly selects a batch\n",
    "        i = np.random.choice(X.shape[0], self.batch_size, replace=False)\n",
    "        X_batch = X[i]\n",
    "        t_batch = t[i]\n",
    "        return X_batch, t_batch\n",
    "        \n",
    "    def iterate(self, X, t):\n",
    "     for i in range(self.max_iterations):\n",
    "            #select a random mini-batch\n",
    "            X_batch, t_batch = self.random_select_batch(X, t)\n",
    "            \n",
    "            #predicts the probability of the batch\n",
    "            z_batch = np.dot(X_batch, self.model.w)\n",
    "            y_batch = self.model.sigmoid(z_batch)\n",
    "            \n",
    "            #computes the gradient of the selcted batch\n",
    "            gradient = np.dot(X_batch.T, (y_batch - t_batch)) / self.batch_size\n",
    "            \n",
    "            #update the model's weights\n",
    "            self.model.w -= self.learning_rate * gradient\n",
    "            \n",
    "            return self.model"
   ]
  }
 ],
 "metadata": {
  "kernelspec": {
   "display_name": "Python 3",
   "language": "python",
   "name": "python3"
  },
  "language_info": {
   "codemirror_mode": {
    "name": "ipython",
    "version": 3
   },
   "file_extension": ".py",
   "mimetype": "text/x-python",
   "name": "python",
   "nbconvert_exporter": "python",
   "pygments_lexer": "ipython3",
   "version": "3.13.0"
  }
 },
 "nbformat": 4,
 "nbformat_minor": 2
}
